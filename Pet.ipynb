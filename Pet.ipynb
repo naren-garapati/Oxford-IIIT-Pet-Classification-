{
 "cells": [
  {
   "cell_type": "code",
   "execution_count": 1,
   "id": "2efdb376",
   "metadata": {},
   "outputs": [],
   "source": [
    "# import libraries \n",
    "import torch\n",
    "import torch.nn as nn\n",
    "import torch.optim as optim\n",
    "from torch.utils.data import DataLoader, Dataset\n",
    "from torchvision import transforms, models\n",
    "import torchvision.transforms as T\n",
    "from PIL import Image\n",
    "import os\n",
    "import numpy as np\n",
    "from sklearn.model_selection import train_test_split\n",
    "import matplotlib.pyplot as plt\n",
    "from tqdm import tqdm"
   ]
  },
  {
   "cell_type": "code",
   "execution_count": 2,
   "id": "48780927",
   "metadata": {},
   "outputs": [],
   "source": [
    "# define the CNN model (37-multi classification problem)\n",
    "# will accept 224 x 224 x 3(RGB) inputs \n",
    "# double the conv filters to progressively learn better features (powers of 2 recommended) \n",
    "# for fully connected layers, progressively scale down to ultimately get to 37 final layer \n",
    "\n",
    "# final feature maps --> 56 channels × 14×14 spatial dimensions\n",
    "\n",
    "class PetCNN(nn.Module):\n",
    "\n",
    "    def __init__(self, num_classes = 37):   # inherit from nn module (mandatory for pytorch models)\n",
    "        super(PetCNN, self).__init__() # initialize super class \n",
    "\n",
    "        # create the CNN architecture \n",
    "        # Convolutional layers\n",
    "        self.conv1 = nn.Conv2d(3, 32, kernel_size=3, padding=1) # 3 channels input (RGB), 32 output \n",
    "        self.bn1 = nn.BatchNorm2d(32)\n",
    "        self.conv2 = nn.Conv2d(32, 64, kernel_size=3, padding=1)\n",
    "        self.bn2 = nn.BatchNorm2d(64)\n",
    "        self.conv3 = nn.Conv2d(64, 128, kernel_size=3, padding=1)\n",
    "        self.bn3 = nn.BatchNorm2d(128)\n",
    "        self.conv4 = nn.Conv2d(128, 256, kernel_size=3, padding=1)\n",
    "        self.bn4 = nn.BatchNorm2d(256)\n",
    "\n",
    "        # Pooling layer\n",
    "        self.pool = nn.MaxPool2d(2, 2)\n",
    "\n",
    "\n",
    "        # Fully connected layers\n",
    "        self.fc1 = nn.Linear(256 * 14 * 14, 512)\n",
    "        self.fc2 = nn.Linear(512, 256)\n",
    "        self.fc3 = nn.Linear(256, num_classes)\n",
    "\n",
    "        # Dropout for regularization\n",
    "        self.dropout = nn.Dropout(0.3)\n",
    "\n",
    "        # Activation function\n",
    "        self.relu = nn.ReLU()\n",
    "\n",
    "    def forward(self, x):\n",
    "        # Conv Block 1\n",
    "        x = self.relu(self.bn1(self.conv1(x)))\n",
    "        x = self.pool(x)\n",
    "            \n",
    "        # Conv Block 2\n",
    "        x = self.relu(self.bn2(self.conv2(x)))\n",
    "        x = self.pool(x)\n",
    "            \n",
    "        # Conv Block 3\n",
    "        x = self.relu(self.bn3(self.conv3(x)))\n",
    "        x = self.pool(x)\n",
    "            \n",
    "        # Conv Block 4\n",
    "        x = self.relu(self.bn4(self.conv4(x)))\n",
    "        x = self.pool(x)\n",
    "            \n",
    "        # Flatten\n",
    "        x = x.view(-1, 256 * 14 * 14)\n",
    "            \n",
    "        # Fully connected layers\n",
    "        x = self.relu(self.fc1(x))\n",
    "        x = self.dropout(x)\n",
    "        x = self.relu(self.fc2(x))\n",
    "        x = self.dropout(x)\n",
    "        x = self.fc3(x)\n",
    "        \n",
    "        return x\n",
    "    \n",
    "        \n",
    "\n"
   ]
  },
  {
   "cell_type": "code",
   "execution_count": 3,
   "id": "0044c1e0",
   "metadata": {},
   "outputs": [],
   "source": [
    "# custom pytorch dataset class \n",
    "# must have __len__ and __getitem__\n",
    "class PetDataset(Dataset):\n",
    "    def __init__(self, image_paths, labels, transform=None):\n",
    "        self.image_paths = image_paths\n",
    "        self.labels = labels\n",
    "        self.transform = transform   # might want to transform the image (resize for one convenient input)\n",
    "        \n",
    "    def __len__(self):\n",
    "        return len(self.image_paths)\n",
    "    \n",
    "    def __getitem__(self, idx):\n",
    "        img_path = self.image_paths[idx]\n",
    "        image = Image.open(img_path).convert('RGB') # make sure you convert any greyscale images to 3 channels \n",
    "        label = self.labels[idx]\n",
    "        \n",
    "        if self.transform:\n",
    "            image = self.transform(image)\n",
    "            \n",
    "        return image, label\n"
   ]
  },
  {
   "cell_type": "code",
   "execution_count": 4,
   "id": "1c80801a",
   "metadata": {},
   "outputs": [],
   "source": [
    "# Data preparation function\n",
    "def prepare_data(data_dir):\n",
    "    \"\"\"\n",
    "    Prepare data from Oxford-IIIT Pet Dataset\n",
    "    Directory structure:\n",
    "    \n",
    "    images/\n",
    "        Abyssinian_1.jpg\n",
    "        Abyssinian_2.jpg\n",
    "        ...\n",
    "    \"\"\"\n",
    "    images_dir = os.path.join(data_dir, 'images')\n",
    "    \n",
    "    # Get all image files\n",
    "    image_files = [f for f in os.listdir(images_dir) if f.endswith('.jpg')]\n",
    "    \n",
    "    # Extract labels from filenames\n",
    "    labels = []\n",
    "    label_to_idx = {}\n",
    "    idx = 0\n",
    "    \n",
    "    for filename in image_files:\n",
    "        # Extract breed name (everything before the last underscore and number)\n",
    "        breed = '_'.join(filename.split('_')[:-1])\n",
    "        \n",
    "        if breed not in label_to_idx:\n",
    "            label_to_idx[breed] = idx\n",
    "            idx += 1\n",
    "        \n",
    "        labels.append(label_to_idx[breed])\n",
    "    \n",
    "    # Create full paths\n",
    "    image_paths = [os.path.join(images_dir, f) for f in image_files]\n",
    "    \n",
    "    return image_paths, labels, label_to_idx"
   ]
  },
  {
   "cell_type": "code",
   "execution_count": 5,
   "id": "3299796d",
   "metadata": {},
   "outputs": [],
   "source": [
    "# Training function\n",
    "def train_model(model, train_loader, val_loader, criterion, optimizer, num_epochs, device):\n",
    "    train_losses = []\n",
    "    train_accs = []\n",
    "    val_losses = []\n",
    "    val_accs = []\n",
    "    \n",
    "    for epoch in range(num_epochs):\n",
    "        # Training phase\n",
    "        model.train()\n",
    "        running_loss = 0.0\n",
    "        correct = 0\n",
    "        total = 0\n",
    "        \n",
    "        train_pbar = tqdm(train_loader, desc=f'Epoch {epoch+1}/{num_epochs} - Training')\n",
    "        for images, labels in train_pbar:\n",
    "            images, labels = images.to(device), labels.to(device)\n",
    "            \n",
    "            # clear gradients for each batch \n",
    "            optimizer.zero_grad()\n",
    "            outputs = model(images) # forward pass\n",
    "            loss = criterion(outputs, labels)   # calculate loss \n",
    "            loss.backward()     # backward prop\n",
    "            optimizer.step()    # update weights \n",
    "            \n",
    "            running_loss += loss.item()\n",
    "            _, predicted = torch.max(outputs.data, 1)\n",
    "            total += labels.size(0)\n",
    "            correct += (predicted == labels).sum().item()\n",
    "            \n",
    "            train_pbar.set_postfix({'loss': running_loss/len(train_loader), \n",
    "                                   'acc': 100*correct/total})\n",
    "        \n",
    "        train_loss = running_loss / len(train_loader)\n",
    "        train_acc = 100 * correct / total\n",
    "        train_losses.append(train_loss)\n",
    "        train_accs.append(train_acc)\n",
    "        \n",
    "        # Validation phase\n",
    "        model.eval()        # will stop calculating gradients \n",
    "        # reset variables \n",
    "        running_loss = 0.0\n",
    "        correct = 0\n",
    "        total = 0\n",
    "        \n",
    "        with torch.no_grad():\n",
    "            val_pbar = tqdm(val_loader, desc=f'Epoch {epoch+1}/{num_epochs} - Validation')\n",
    "            for images, labels in val_pbar:\n",
    "                images, labels = images.to(device), labels.to(device)\n",
    "                outputs = model(images)\n",
    "                loss = criterion(outputs, labels)\n",
    "                \n",
    "                running_loss += loss.item()\n",
    "                _, predicted = torch.max(outputs.data, 1)\n",
    "                total += labels.size(0)\n",
    "                correct += (predicted == labels).sum().item()\n",
    "                \n",
    "                val_pbar.set_postfix({'loss': running_loss/len(val_loader), \n",
    "                                     'acc': 100*correct/total})\n",
    "        \n",
    "        \n",
    "        val_loss = running_loss / len(val_loader)\n",
    "        val_acc = 100 * correct / total\n",
    "        val_losses.append(val_loss)\n",
    "        val_accs.append(val_acc)\n",
    "        \n",
    "        print(f'Epoch [{epoch+1}/{num_epochs}]')\n",
    "        print(f'Train Loss: {train_loss:.4f}, Train Acc: {train_acc:.2f}%')\n",
    "        print(f'Val Loss: {val_loss:.4f}, Val Acc: {val_acc:.2f}%')\n",
    "        print('-' * 50)\n",
    "    \n",
    "    return train_losses, train_accs, val_losses, val_accs"
   ]
  },
  {
   "cell_type": "code",
   "execution_count": 6,
   "id": "8c930e7a",
   "metadata": {},
   "outputs": [],
   "source": [
    "# Visualization function\n",
    "def plot_training_history(train_losses, train_accs, val_losses, val_accs):\n",
    "    fig, (ax1, ax2) = plt.subplots(1, 2, figsize=(12, 4))\n",
    "    \n",
    "    # Loss plot\n",
    "    ax1.plot(train_losses, label='Train Loss')\n",
    "    ax1.plot(val_losses, label='Val Loss')\n",
    "    ax1.set_xlabel('Epoch')\n",
    "    ax1.set_ylabel('Loss')\n",
    "    ax1.set_title('Training and Validation Loss')\n",
    "    ax1.legend()\n",
    "    ax1.grid(True)\n",
    "    \n",
    "    # Accuracy plot\n",
    "    ax2.plot(train_accs, label='Train Acc')\n",
    "    ax2.plot(val_accs, label='Val Acc')\n",
    "    ax2.set_xlabel('Epoch')\n",
    "    ax2.set_ylabel('Accuracy (%)')\n",
    "    ax2.set_title('Training and Validation Accuracy')\n",
    "    ax2.legend()\n",
    "    ax2.grid(True)\n",
    "    \n",
    "    plt.tight_layout()\n",
    "    plt.show()"
   ]
  },
  {
   "cell_type": "code",
   "execution_count": 7,
   "id": "e1d663c2",
   "metadata": {},
   "outputs": [],
   "source": [
    "# Main training script\n",
    "def main():\n",
    "    # Configuration\n",
    "    data_dir = ''                               ###### PATH (just make sure the folder images is in the same dir as the py file)\n",
    "    batch_size = 32\n",
    "    num_epochs = 30 \n",
    "    learning_rate = 0.001\n",
    "    image_size = 224\n",
    "    \n",
    "    # Check for GPU/MPS\n",
    "    if torch.cuda.is_available():\n",
    "        device = torch.device('cuda')\n",
    "    elif torch.backends.mps.is_available():\n",
    "        device = torch.device('mps')\n",
    "    else:\n",
    "        device = torch.device('cpu')\n",
    "    print(f'Using device: {device}')\n",
    "    \n",
    "    # Data transforms\n",
    "    train_transform = transforms.Compose([\n",
    "        transforms.Resize((image_size, image_size)),\n",
    "        transforms.RandomHorizontalFlip(p=0.5),\n",
    "        transforms.RandomRotation(10),\n",
    "        transforms.ColorJitter(brightness=0.2, contrast=0.2, saturation=0.2, hue=0.1),\n",
    "        transforms.ToTensor(),\n",
    "        transforms.Normalize(mean=[0.485, 0.456, 0.406], std=[0.229, 0.224, 0.225])\n",
    "    ])\n",
    "    \n",
    "    val_transform = transforms.Compose([\n",
    "        transforms.Resize((image_size, image_size)),\n",
    "        transforms.ToTensor(),\n",
    "        transforms.Normalize(mean=[0.485, 0.456, 0.406], std=[0.229, 0.224, 0.225])\n",
    "    ])\n",
    "    \n",
    "    # Prepare data\n",
    "    print('Loading dataset...')\n",
    "    image_paths, labels, label_to_idx = prepare_data(data_dir)\n",
    "    num_classes = len(label_to_idx)\n",
    "    print(f'Found {num_classes} pet breeds')\n",
    "    \n",
    "    # Split data\n",
    "    train_paths, val_paths, train_labels, val_labels = train_test_split(\n",
    "        image_paths, labels, test_size=0.2, random_state=42, stratify=labels\n",
    "    )\n",
    "    \n",
    "    # Create datasets\n",
    "    train_dataset = PetDataset(train_paths, train_labels, transform=train_transform)\n",
    "    val_dataset = PetDataset(val_paths, val_labels, transform=val_transform)\n",
    "    \n",
    "    # Create data loaders\n",
    "    # Note: For MPS, you might need to reduce num_workers or set it to 0\n",
    "    num_workers = 0 if device.type == 'mps' else 4\n",
    "    train_loader = DataLoader(train_dataset, batch_size=batch_size, shuffle=True, num_workers=num_workers)\n",
    "    val_loader = DataLoader(val_dataset, batch_size=batch_size, shuffle=False, num_workers=num_workers)\n",
    "    \n",
    "    # Initialize model\n",
    "    model = PetCNN(num_classes=num_classes).to(device)\n",
    "    \n",
    "    # Loss and optimizer\n",
    "    criterion = nn.CrossEntropyLoss()\n",
    "    optimizer = optim.Adam(model.parameters(), lr=learning_rate)\n",
    "    \n",
    "    # Train model\n",
    "    print('Starting training...')\n",
    "    train_losses, train_accs, val_losses, val_accs = train_model(\n",
    "        model, train_loader, val_loader, criterion, optimizer, num_epochs, device\n",
    "    )\n",
    "    \n",
    "    # Plot results\n",
    "    plot_training_history(train_losses, train_accs, val_losses, val_accs)\n",
    "    \n",
    "    # Save model\n",
    "    torch.save({\n",
    "        'model_state_dict': model.state_dict(),\n",
    "        'label_to_idx': label_to_idx,\n",
    "        'num_classes': num_classes\n",
    "    }, 'pet_classifier_model.pth')\n",
    "    print('Model saved as pet_classifier_model.pth')\n",
    "    \n",
    "    return model, label_to_idx"
   ]
  },
  {
   "cell_type": "code",
   "execution_count": 8,
   "id": "4141a5d3",
   "metadata": {},
   "outputs": [],
   "source": [
    "# Inference function\n",
    "def predict_image(model, image_path, transform, label_to_idx, device):\n",
    "    \"\"\"\n",
    "    Predict the breed of a single pet image\n",
    "    \"\"\"\n",
    "    model.eval()\n",
    "    \n",
    "    # Load and transform image\n",
    "    image = Image.open(image_path).convert('RGB')\n",
    "    image_tensor = transform(image).unsqueeze(0).to(device)\n",
    "    \n",
    "    # Get prediction\n",
    "    with torch.no_grad():\n",
    "        outputs = model(image_tensor)\n",
    "        _, predicted = torch.max(outputs, 1)\n",
    "        \n",
    "    # Get breed name\n",
    "    idx_to_label = {v: k for k, v in label_to_idx.items()}\n",
    "    breed = idx_to_label[predicted.item()]\n",
    "    \n",
    "    # Get confidence scores\n",
    "    probabilities = torch.nn.functional.softmax(outputs, dim=1)\n",
    "    confidence = probabilities[0][predicted].item()\n",
    "    \n",
    "    return breed, confidence"
   ]
  },
  {
   "cell_type": "code",
   "execution_count": 9,
   "id": "5c0c1d4d",
   "metadata": {},
   "outputs": [
    {
     "name": "stdout",
     "output_type": "stream",
     "text": [
      "Using device: mps\n",
      "Loading dataset...\n",
      "Found 37 pet breeds\n",
      "Starting training...\n"
     ]
    },
    {
     "name": "stderr",
     "output_type": "stream",
     "text": [
      "Epoch 1/30 - Training: 100%|██████████| 185/185 [00:50<00:00,  3.66it/s, loss=3.99, acc=3.3] \n",
      "Epoch 1/30 - Validation: 100%|██████████| 47/47 [00:05<00:00,  8.00it/s, loss=3.59, acc=5.48] \n"
     ]
    },
    {
     "name": "stdout",
     "output_type": "stream",
     "text": [
      "Epoch [1/30]\n",
      "Train Loss: 3.9892, Train Acc: 3.30%\n",
      "Val Loss: 3.5869, Val Acc: 5.48%\n",
      "--------------------------------------------------\n"
     ]
    },
    {
     "name": "stderr",
     "output_type": "stream",
     "text": [
      "Epoch 2/30 - Training: 100%|██████████| 185/185 [00:49<00:00,  3.76it/s, loss=3.54, acc=4.97] \n",
      "Epoch 2/30 - Validation: 100%|██████████| 47/47 [00:06<00:00,  7.61it/s, loss=3.54, acc=5.82] \n"
     ]
    },
    {
     "name": "stdout",
     "output_type": "stream",
     "text": [
      "Epoch [2/30]\n",
      "Train Loss: 3.5422, Train Acc: 4.97%\n",
      "Val Loss: 3.5433, Val Acc: 5.82%\n",
      "--------------------------------------------------\n"
     ]
    },
    {
     "name": "stderr",
     "output_type": "stream",
     "text": [
      "Epoch 3/30 - Training: 100%|██████████| 185/185 [00:52<00:00,  3.55it/s, loss=3.48, acc=5.67]\n",
      "Epoch 3/30 - Validation: 100%|██████████| 47/47 [00:06<00:00,  7.74it/s, loss=3.46, acc=6.02] \n"
     ]
    },
    {
     "name": "stdout",
     "output_type": "stream",
     "text": [
      "Epoch [3/30]\n",
      "Train Loss: 3.4811, Train Acc: 5.67%\n",
      "Val Loss: 3.4573, Val Acc: 6.02%\n",
      "--------------------------------------------------\n"
     ]
    },
    {
     "name": "stderr",
     "output_type": "stream",
     "text": [
      "Epoch 4/30 - Training: 100%|██████████| 185/185 [00:49<00:00,  3.73it/s, loss=3.44, acc=6.26]\n",
      "Epoch 4/30 - Validation: 100%|██████████| 47/47 [00:05<00:00,  7.92it/s, loss=3.34, acc=8.93] \n"
     ]
    },
    {
     "name": "stdout",
     "output_type": "stream",
     "text": [
      "Epoch [4/30]\n",
      "Train Loss: 3.4363, Train Acc: 6.26%\n",
      "Val Loss: 3.3436, Val Acc: 8.93%\n",
      "--------------------------------------------------\n"
     ]
    },
    {
     "name": "stderr",
     "output_type": "stream",
     "text": [
      "Epoch 5/30 - Training: 100%|██████████| 185/185 [00:51<00:00,  3.59it/s, loss=3.39, acc=6.95]\n",
      "Epoch 5/30 - Validation: 100%|██████████| 47/47 [00:06<00:00,  7.08it/s, loss=3.28, acc=10.2] \n"
     ]
    },
    {
     "name": "stdout",
     "output_type": "stream",
     "text": [
      "Epoch [5/30]\n",
      "Train Loss: 3.3910, Train Acc: 6.95%\n",
      "Val Loss: 3.2818, Val Acc: 10.22%\n",
      "--------------------------------------------------\n"
     ]
    },
    {
     "name": "stderr",
     "output_type": "stream",
     "text": [
      "Epoch 6/30 - Training: 100%|██████████| 185/185 [00:51<00:00,  3.61it/s, loss=3.38, acc=7.73]\n",
      "Epoch 6/30 - Validation: 100%|██████████| 47/47 [00:06<00:00,  7.74it/s, loss=3.29, acc=10.8] \n"
     ]
    },
    {
     "name": "stdout",
     "output_type": "stream",
     "text": [
      "Epoch [6/30]\n",
      "Train Loss: 3.3753, Train Acc: 7.73%\n",
      "Val Loss: 3.2852, Val Acc: 10.76%\n",
      "--------------------------------------------------\n"
     ]
    },
    {
     "name": "stderr",
     "output_type": "stream",
     "text": [
      "Epoch 7/30 - Training: 100%|██████████| 185/185 [00:49<00:00,  3.76it/s, loss=3.34, acc=7.98]\n",
      "Epoch 7/30 - Validation: 100%|██████████| 47/47 [00:06<00:00,  7.66it/s, loss=3.3, acc=9.13]  \n"
     ]
    },
    {
     "name": "stdout",
     "output_type": "stream",
     "text": [
      "Epoch [7/30]\n",
      "Train Loss: 3.3430, Train Acc: 7.98%\n",
      "Val Loss: 3.3049, Val Acc: 9.13%\n",
      "--------------------------------------------------\n"
     ]
    },
    {
     "name": "stderr",
     "output_type": "stream",
     "text": [
      "Epoch 8/30 - Training: 100%|██████████| 185/185 [00:50<00:00,  3.69it/s, loss=3.31, acc=9.39]\n",
      "Epoch 8/30 - Validation: 100%|██████████| 47/47 [00:06<00:00,  7.59it/s, loss=3.28, acc=10.4] \n"
     ]
    },
    {
     "name": "stdout",
     "output_type": "stream",
     "text": [
      "Epoch [8/30]\n",
      "Train Loss: 3.3088, Train Acc: 9.39%\n",
      "Val Loss: 3.2757, Val Acc: 10.35%\n",
      "--------------------------------------------------\n"
     ]
    },
    {
     "name": "stderr",
     "output_type": "stream",
     "text": [
      "Epoch 9/30 - Training: 100%|██████████| 185/185 [00:51<00:00,  3.59it/s, loss=3.3, acc=8.56] \n",
      "Epoch 9/30 - Validation: 100%|██████████| 47/47 [00:05<00:00,  7.93it/s, loss=3.44, acc=7.44] \n"
     ]
    },
    {
     "name": "stdout",
     "output_type": "stream",
     "text": [
      "Epoch [9/30]\n",
      "Train Loss: 3.3048, Train Acc: 8.56%\n",
      "Val Loss: 3.4442, Val Acc: 7.44%\n",
      "--------------------------------------------------\n"
     ]
    },
    {
     "name": "stderr",
     "output_type": "stream",
     "text": [
      "Epoch 10/30 - Training: 100%|██████████| 185/185 [00:49<00:00,  3.75it/s, loss=3.28, acc=9.03]\n",
      "Epoch 10/30 - Validation: 100%|██████████| 47/47 [00:06<00:00,  7.73it/s, loss=3.22, acc=11.3] \n"
     ]
    },
    {
     "name": "stdout",
     "output_type": "stream",
     "text": [
      "Epoch [10/30]\n",
      "Train Loss: 3.2768, Train Acc: 9.03%\n",
      "Val Loss: 3.2226, Val Acc: 11.30%\n",
      "--------------------------------------------------\n"
     ]
    },
    {
     "name": "stderr",
     "output_type": "stream",
     "text": [
      "Epoch 11/30 - Training: 100%|██████████| 185/185 [02:28<00:00,  1.24it/s, loss=3.27, acc=9.74]\n",
      "Epoch 11/30 - Validation: 100%|██████████| 47/47 [02:55<00:00,  3.73s/it, loss=3.22, acc=11]   \n"
     ]
    },
    {
     "name": "stdout",
     "output_type": "stream",
     "text": [
      "Epoch [11/30]\n",
      "Train Loss: 3.2735, Train Acc: 9.74%\n",
      "Val Loss: 3.2231, Val Acc: 11.03%\n",
      "--------------------------------------------------\n"
     ]
    },
    {
     "name": "stderr",
     "output_type": "stream",
     "text": [
      "Epoch 12/30 - Training: 100%|██████████| 185/185 [00:49<00:00,  3.71it/s, loss=3.26, acc=9.96]\n",
      "Epoch 12/30 - Validation: 100%|██████████| 47/47 [00:05<00:00,  8.05it/s, loss=3.22, acc=12.2] \n"
     ]
    },
    {
     "name": "stdout",
     "output_type": "stream",
     "text": [
      "Epoch [12/30]\n",
      "Train Loss: 3.2608, Train Acc: 9.96%\n",
      "Val Loss: 3.2150, Val Acc: 12.25%\n",
      "--------------------------------------------------\n"
     ]
    },
    {
     "name": "stderr",
     "output_type": "stream",
     "text": [
      "Epoch 13/30 - Training: 100%|██████████| 185/185 [00:48<00:00,  3.84it/s, loss=3.26, acc=9.66]\n",
      "Epoch 13/30 - Validation: 100%|██████████| 47/47 [00:06<00:00,  7.32it/s, loss=3.16, acc=11.6] \n"
     ]
    },
    {
     "name": "stdout",
     "output_type": "stream",
     "text": [
      "Epoch [13/30]\n",
      "Train Loss: 3.2592, Train Acc: 9.66%\n",
      "Val Loss: 3.1620, Val Acc: 11.57%\n",
      "--------------------------------------------------\n"
     ]
    },
    {
     "name": "stderr",
     "output_type": "stream",
     "text": [
      "Epoch 14/30 - Training: 100%|██████████| 185/185 [00:48<00:00,  3.81it/s, loss=3.22, acc=10.8]\n",
      "Epoch 14/30 - Validation: 100%|██████████| 47/47 [00:06<00:00,  7.67it/s, loss=3.16, acc=12.5] \n"
     ]
    },
    {
     "name": "stdout",
     "output_type": "stream",
     "text": [
      "Epoch [14/30]\n",
      "Train Loss: 3.2246, Train Acc: 10.77%\n",
      "Val Loss: 3.1634, Val Acc: 12.52%\n",
      "--------------------------------------------------\n"
     ]
    },
    {
     "name": "stderr",
     "output_type": "stream",
     "text": [
      "Epoch 15/30 - Training: 100%|██████████| 185/185 [00:53<00:00,  3.47it/s, loss=3.22, acc=11]  \n",
      "Epoch 15/30 - Validation: 100%|██████████| 47/47 [00:06<00:00,  7.17it/s, loss=3.19, acc=11.9] \n"
     ]
    },
    {
     "name": "stdout",
     "output_type": "stream",
     "text": [
      "Epoch [15/30]\n",
      "Train Loss: 3.2203, Train Acc: 10.99%\n",
      "Val Loss: 3.1943, Val Acc: 11.91%\n",
      "--------------------------------------------------\n"
     ]
    },
    {
     "name": "stderr",
     "output_type": "stream",
     "text": [
      "Epoch 16/30 - Training: 100%|██████████| 185/185 [00:54<00:00,  3.38it/s, loss=3.19, acc=11.1]\n",
      "Epoch 16/30 - Validation: 100%|██████████| 47/47 [00:06<00:00,  7.43it/s, loss=3.35, acc=9.13] \n"
     ]
    },
    {
     "name": "stdout",
     "output_type": "stream",
     "text": [
      "Epoch [16/30]\n",
      "Train Loss: 3.1936, Train Acc: 11.10%\n",
      "Val Loss: 3.3472, Val Acc: 9.13%\n",
      "--------------------------------------------------\n"
     ]
    },
    {
     "name": "stderr",
     "output_type": "stream",
     "text": [
      "Epoch 17/30 - Training: 100%|██████████| 185/185 [00:52<00:00,  3.55it/s, loss=3.18, acc=11]  \n",
      "Epoch 17/30 - Validation: 100%|██████████| 47/47 [00:06<00:00,  7.50it/s, loss=3.27, acc=11.9] \n"
     ]
    },
    {
     "name": "stdout",
     "output_type": "stream",
     "text": [
      "Epoch [17/30]\n",
      "Train Loss: 3.1790, Train Acc: 10.96%\n",
      "Val Loss: 3.2700, Val Acc: 11.91%\n",
      "--------------------------------------------------\n"
     ]
    },
    {
     "name": "stderr",
     "output_type": "stream",
     "text": [
      "Epoch 18/30 - Training: 100%|██████████| 185/185 [00:53<00:00,  3.43it/s, loss=3.15, acc=12.2]\n",
      "Epoch 18/30 - Validation: 100%|██████████| 47/47 [00:06<00:00,  7.43it/s, loss=3.18, acc=12.5] \n"
     ]
    },
    {
     "name": "stdout",
     "output_type": "stream",
     "text": [
      "Epoch [18/30]\n",
      "Train Loss: 3.1462, Train Acc: 12.21%\n",
      "Val Loss: 3.1769, Val Acc: 12.52%\n",
      "--------------------------------------------------\n"
     ]
    },
    {
     "name": "stderr",
     "output_type": "stream",
     "text": [
      "Epoch 19/30 - Training: 100%|██████████| 185/185 [00:53<00:00,  3.44it/s, loss=3.12, acc=12.2]\n",
      "Epoch 19/30 - Validation: 100%|██████████| 47/47 [00:06<00:00,  7.66it/s, loss=3.04, acc=16]   \n"
     ]
    },
    {
     "name": "stdout",
     "output_type": "stream",
     "text": [
      "Epoch [19/30]\n",
      "Train Loss: 3.1240, Train Acc: 12.16%\n",
      "Val Loss: 3.0401, Val Acc: 16.04%\n",
      "--------------------------------------------------\n"
     ]
    },
    {
     "name": "stderr",
     "output_type": "stream",
     "text": [
      "Epoch 20/30 - Training: 100%|██████████| 185/185 [00:50<00:00,  3.65it/s, loss=3.1, acc=13.5] \n",
      "Epoch 20/30 - Validation: 100%|██████████| 47/47 [00:06<00:00,  7.61it/s, loss=3.02, acc=15.9] \n"
     ]
    },
    {
     "name": "stdout",
     "output_type": "stream",
     "text": [
      "Epoch [20/30]\n",
      "Train Loss: 3.0968, Train Acc: 13.48%\n",
      "Val Loss: 3.0151, Val Acc: 15.90%\n",
      "--------------------------------------------------\n"
     ]
    },
    {
     "name": "stderr",
     "output_type": "stream",
     "text": [
      "Epoch 21/30 - Training: 100%|██████████| 185/185 [00:56<00:00,  3.29it/s, loss=3.07, acc=13.8]\n",
      "Epoch 21/30 - Validation: 100%|██████████| 47/47 [00:06<00:00,  7.18it/s, loss=3.08, acc=15.8] \n"
     ]
    },
    {
     "name": "stdout",
     "output_type": "stream",
     "text": [
      "Epoch [21/30]\n",
      "Train Loss: 3.0697, Train Acc: 13.75%\n",
      "Val Loss: 3.0846, Val Acc: 15.83%\n",
      "--------------------------------------------------\n"
     ]
    },
    {
     "name": "stderr",
     "output_type": "stream",
     "text": [
      "Epoch 22/30 - Training: 100%|██████████| 185/185 [00:51<00:00,  3.58it/s, loss=3.05, acc=14.4]\n",
      "Epoch 22/30 - Validation: 100%|██████████| 47/47 [00:06<00:00,  7.70it/s, loss=3, acc=19.2]    \n"
     ]
    },
    {
     "name": "stdout",
     "output_type": "stream",
     "text": [
      "Epoch [22/30]\n",
      "Train Loss: 3.0476, Train Acc: 14.41%\n",
      "Val Loss: 2.9957, Val Acc: 19.22%\n",
      "--------------------------------------------------\n"
     ]
    },
    {
     "name": "stderr",
     "output_type": "stream",
     "text": [
      "Epoch 23/30 - Training: 100%|██████████| 185/185 [00:51<00:00,  3.62it/s, loss=3.02, acc=14.3]\n",
      "Epoch 23/30 - Validation: 100%|██████████| 47/47 [00:06<00:00,  7.12it/s, loss=2.97, acc=16.7] \n"
     ]
    },
    {
     "name": "stdout",
     "output_type": "stream",
     "text": [
      "Epoch [23/30]\n",
      "Train Loss: 3.0157, Train Acc: 14.26%\n",
      "Val Loss: 2.9737, Val Acc: 16.71%\n",
      "--------------------------------------------------\n"
     ]
    },
    {
     "name": "stderr",
     "output_type": "stream",
     "text": [
      "Epoch 24/30 - Training: 100%|██████████| 185/185 [00:53<00:00,  3.46it/s, loss=3.01, acc=14.9]\n",
      "Epoch 24/30 - Validation: 100%|██████████| 47/47 [00:06<00:00,  7.66it/s, loss=2.9, acc=19.1]  \n"
     ]
    },
    {
     "name": "stdout",
     "output_type": "stream",
     "text": [
      "Epoch [24/30]\n",
      "Train Loss: 3.0050, Train Acc: 14.94%\n",
      "Val Loss: 2.8969, Val Acc: 19.08%\n",
      "--------------------------------------------------\n"
     ]
    },
    {
     "name": "stderr",
     "output_type": "stream",
     "text": [
      "Epoch 25/30 - Training: 100%|██████████| 185/185 [00:51<00:00,  3.59it/s, loss=2.96, acc=14.9]\n",
      "Epoch 25/30 - Validation: 100%|██████████| 47/47 [00:06<00:00,  7.45it/s, loss=2.9, acc=20.6]  \n"
     ]
    },
    {
     "name": "stdout",
     "output_type": "stream",
     "text": [
      "Epoch [25/30]\n",
      "Train Loss: 2.9557, Train Acc: 14.87%\n",
      "Val Loss: 2.9024, Val Acc: 20.57%\n",
      "--------------------------------------------------\n"
     ]
    },
    {
     "name": "stderr",
     "output_type": "stream",
     "text": [
      "Epoch 26/30 - Training: 100%|██████████| 185/185 [00:50<00:00,  3.66it/s, loss=2.95, acc=15.3]\n",
      "Epoch 26/30 - Validation: 100%|██████████| 47/47 [00:06<00:00,  7.48it/s, loss=2.96, acc=17.9] \n"
     ]
    },
    {
     "name": "stdout",
     "output_type": "stream",
     "text": [
      "Epoch [26/30]\n",
      "Train Loss: 2.9537, Train Acc: 15.31%\n",
      "Val Loss: 2.9608, Val Acc: 17.86%\n",
      "--------------------------------------------------\n"
     ]
    },
    {
     "name": "stderr",
     "output_type": "stream",
     "text": [
      "Epoch 27/30 - Training: 100%|██████████| 185/185 [00:49<00:00,  3.74it/s, loss=2.94, acc=15.7]\n",
      "Epoch 27/30 - Validation: 100%|██████████| 47/47 [00:05<00:00,  7.94it/s, loss=2.88, acc=22]   \n"
     ]
    },
    {
     "name": "stdout",
     "output_type": "stream",
     "text": [
      "Epoch [27/30]\n",
      "Train Loss: 2.9365, Train Acc: 15.71%\n",
      "Val Loss: 2.8808, Val Acc: 21.99%\n",
      "--------------------------------------------------\n"
     ]
    },
    {
     "name": "stderr",
     "output_type": "stream",
     "text": [
      "Epoch 28/30 - Training: 100%|██████████| 185/185 [00:49<00:00,  3.76it/s, loss=2.9, acc=16.8] \n",
      "Epoch 28/30 - Validation: 100%|██████████| 47/47 [00:05<00:00,  7.92it/s, loss=2.83, acc=20]   \n"
     ]
    },
    {
     "name": "stdout",
     "output_type": "stream",
     "text": [
      "Epoch [28/30]\n",
      "Train Loss: 2.9026, Train Acc: 16.85%\n",
      "Val Loss: 2.8275, Val Acc: 20.03%\n",
      "--------------------------------------------------\n"
     ]
    },
    {
     "name": "stderr",
     "output_type": "stream",
     "text": [
      "Epoch 29/30 - Training: 100%|██████████| 185/185 [01:22<00:00,  2.25it/s, loss=2.86, acc=17.7]\n",
      "Epoch 29/30 - Validation: 100%|██████████| 47/47 [00:05<00:00,  7.85it/s, loss=2.81, acc=21.5] \n"
     ]
    },
    {
     "name": "stdout",
     "output_type": "stream",
     "text": [
      "Epoch [29/30]\n",
      "Train Loss: 2.8559, Train Acc: 17.69%\n",
      "Val Loss: 2.8074, Val Acc: 21.52%\n",
      "--------------------------------------------------\n"
     ]
    },
    {
     "name": "stderr",
     "output_type": "stream",
     "text": [
      "Epoch 30/30 - Training: 100%|██████████| 185/185 [00:49<00:00,  3.76it/s, loss=2.86, acc=17.4]\n",
      "Epoch 30/30 - Validation: 100%|██████████| 47/47 [00:05<00:00,  7.97it/s, loss=2.75, acc=22.7] \n"
     ]
    },
    {
     "name": "stdout",
     "output_type": "stream",
     "text": [
      "Epoch [30/30]\n",
      "Train Loss: 2.8628, Train Acc: 17.37%\n",
      "Val Loss: 2.7494, Val Acc: 22.67%\n",
      "--------------------------------------------------\n"
     ]
    },
    {
     "data": {
      "image/png": "[encoded data removed]",
      "text/plain": [
       "<Figure size 1200x400 with 2 Axes>"
      ]
     },
     "metadata": {},
     "output_type": "display_data"
    },
    {
     "name": "stdout",
     "output_type": "stream",
     "text": [
      "Model saved as pet_classifier_model.pth\n"
     ]
    },
    {
     "data": {
      "text/plain": [
       "(PetCNN(\n",
       "   (conv1): Conv2d(3, 32, kernel_size=(3, 3), stride=(1, 1), padding=(1, 1))\n",
       "   (bn1): BatchNorm2d(32, eps=1e-05, momentum=0.1, affine=True, track_running_stats=True)\n",
       "   (conv2): Conv2d(32, 64, kernel_size=(3, 3), stride=(1, 1), padding=(1, 1))\n",
       "   (bn2): BatchNorm2d(64, eps=1e-05, momentum=0.1, affine=True, track_running_stats=True)\n",
       "   (conv3): Conv2d(64, 128, kernel_size=(3, 3), stride=(1, 1), padding=(1, 1))\n",
       "   (bn3): BatchNorm2d(128, eps=1e-05, momentum=0.1, affine=True, track_running_stats=True)\n",
       "   (conv4): Conv2d(128, 256, kernel_size=(3, 3), stride=(1, 1), padding=(1, 1))\n",
       "   (bn4): BatchNorm2d(256, eps=1e-05, momentum=0.1, affine=True, track_running_stats=True)\n",
       "   (pool): MaxPool2d(kernel_size=2, stride=2, padding=0, dilation=1, ceil_mode=False)\n",
       "   (fc1): Linear(in_features=50176, out_features=512, bias=True)\n",
       "   (fc2): Linear(in_features=512, out_features=256, bias=True)\n",
       "   (fc3): Linear(in_features=256, out_features=37, bias=True)\n",
       "   (dropout): Dropout(p=0.3, inplace=False)\n",
       "   (relu): ReLU()\n",
       " ),\n",
       " {'Egyptian_Mau': 0,\n",
       "  'pug': 1,\n",
       "  'basset_hound': 2,\n",
       "  'Siamese': 3,\n",
       "  'shiba_inu': 4,\n",
       "  'Birman': 5,\n",
       "  'leonberger': 6,\n",
       "  'saint_bernard': 7,\n",
       "  'Abyssinian': 8,\n",
       "  'miniature_pinscher': 9,\n",
       "  'wheaten_terrier': 10,\n",
       "  'scottish_terrier': 11,\n",
       "  'pomeranian': 12,\n",
       "  'german_shorthaired': 13,\n",
       "  'english_setter': 14,\n",
       "  'newfoundland': 15,\n",
       "  'Sphynx': 16,\n",
       "  'British_Shorthair': 17,\n",
       "  'Bombay': 18,\n",
       "  'boxer': 19,\n",
       "  'great_pyrenees': 20,\n",
       "  'samoyed': 21,\n",
       "  'Russian_Blue': 22,\n",
       "  'Persian': 23,\n",
       "  'japanese_chin': 24,\n",
       "  'Ragdoll': 25,\n",
       "  'english_cocker_spaniel': 26,\n",
       "  'Maine_Coon': 27,\n",
       "  'havanese': 28,\n",
       "  'Bengal': 29,\n",
       "  'american_pit_bull_terrier': 30,\n",
       "  'keeshond': 31,\n",
       "  'american_bulldog': 32,\n",
       "  'chihuahua': 33,\n",
       "  'beagle': 34,\n",
       "  'yorkshire_terrier': 35,\n",
       "  'staffordshire_bull_terrier': 36})"
      ]
     },
     "execution_count": 9,
     "metadata": {},
     "output_type": "execute_result"
    }
   ],
   "source": [
    "# run the cnn model \n",
    "main()"
   ]
  },
  {
   "cell_type": "markdown",
   "id": "82c1abca",
   "metadata": {},
   "source": [
    "# Testing Pre-trained models"
   ]
  },
  {
   "cell_type": "code",
   "execution_count": 10,
   "id": "075578bd",
   "metadata": {},
   "outputs": [],
   "source": [
    "# let's implement (Transfer Learning)\n",
    "def ResNet50(num_classes):\n",
    "    \"\"\"\n",
    "    Create a model using transfer learning with ResNet50\n",
    "    \"\"\"\n",
    "    model = models.resnet50(pretrained=True)\n",
    "    \n",
    "    # Freeze early layers\n",
    "    for param in model.parameters():\n",
    "        param.requires_grad = False\n",
    "    \n",
    "    # Replace the final layer\n",
    "    num_features = model.fc.in_features\n",
    "    model.fc = nn.Sequential(\n",
    "        nn.Linear(num_features, 512),\n",
    "        nn.ReLU(),\n",
    "        nn.Dropout(0.5),\n",
    "        nn.Linear(512, num_classes)\n",
    "    )\n",
    "    \n",
    "    return model"
   ]
  },
  {
   "cell_type": "code",
   "execution_count": 11,
   "id": "9a675959",
   "metadata": {},
   "outputs": [],
   "source": [
    "# rerun main but with ResNet \n",
    "\n",
    "def main():\n",
    "    # Configuration\n",
    "    data_dir = ''                               ###### PATH (just make sure the folder images is in the same dir as the py file)\n",
    "    batch_size = 32\n",
    "    num_epochs = 15\n",
    "    learning_rate = 0.001\n",
    "    image_size = 224\n",
    "    \n",
    "    # Check for GPU/MPS\n",
    "    if torch.cuda.is_available():\n",
    "        device = torch.device('cuda')\n",
    "    elif torch.backends.mps.is_available():\n",
    "        device = torch.device('mps')\n",
    "    else:\n",
    "        device = torch.device('cpu')\n",
    "    print(f'Using device: {device}')\n",
    "    \n",
    "    # Data transforms\n",
    "    train_transform = transforms.Compose([\n",
    "        transforms.Resize((image_size, image_size)),\n",
    "        transforms.RandomHorizontalFlip(p=0.5),\n",
    "        transforms.RandomRotation(10),\n",
    "        transforms.ColorJitter(brightness=0.2, contrast=0.2, saturation=0.2, hue=0.1),\n",
    "        transforms.ToTensor(),\n",
    "        transforms.Normalize(mean=[0.485, 0.456, 0.406], std=[0.229, 0.224, 0.225])\n",
    "    ])\n",
    "    \n",
    "    val_transform = transforms.Compose([\n",
    "        transforms.Resize((image_size, image_size)),\n",
    "        transforms.ToTensor(),\n",
    "        transforms.Normalize(mean=[0.485, 0.456, 0.406], std=[0.229, 0.224, 0.225])\n",
    "    ])\n",
    "    \n",
    "    # Prepare data\n",
    "    print('Loading dataset...')\n",
    "    image_paths, labels, label_to_idx = prepare_data(data_dir)\n",
    "    num_classes = len(label_to_idx)\n",
    "    print(f'Found {num_classes} pet breeds')\n",
    "    \n",
    "    # Split data\n",
    "    train_paths, val_paths, train_labels, val_labels = train_test_split(\n",
    "        image_paths, labels, test_size=0.2, random_state=42, stratify=labels\n",
    "    )\n",
    "    \n",
    "    # Create datasets\n",
    "    train_dataset = PetDataset(train_paths, train_labels, transform=train_transform)\n",
    "    val_dataset = PetDataset(val_paths, val_labels, transform=val_transform)\n",
    "    \n",
    "    # Create data loaders\n",
    "    # Note: For MPS, you might need to reduce num_workers or set it to 0\n",
    "    num_workers = 0 if device.type == 'mps' else 4\n",
    "    train_loader = DataLoader(train_dataset, batch_size=batch_size, shuffle=True, num_workers=num_workers)\n",
    "    val_loader = DataLoader(val_dataset, batch_size=batch_size, shuffle=False, num_workers=num_workers)\n",
    "    \n",
    "    # Initialize model\n",
    "    model = ResNet50(num_classes).to(device)\n",
    "    \n",
    "    # Loss and optimizer\n",
    "    criterion = nn.CrossEntropyLoss()\n",
    "    optimizer = optim.Adam(model.parameters(), lr=learning_rate)\n",
    "    \n",
    "    # Train model\n",
    "    print('Starting training...')\n",
    "    train_losses, train_accs, val_losses, val_accs = train_model(\n",
    "        model, train_loader, val_loader, criterion, optimizer, num_epochs, device\n",
    "    )\n",
    "    \n",
    "    # Plot results\n",
    "    plot_training_history(train_losses, train_accs, val_losses, val_accs)\n",
    "    \n",
    "    # Save model\n",
    "    torch.save({\n",
    "        'model_state_dict': model.state_dict(),\n",
    "        'label_to_idx': label_to_idx,\n",
    "        'num_classes': num_classes\n",
    "    }, 'pet_classifier_model.pth')\n",
    "    print('Model saved as ResNetTuned.pth')\n",
    "    \n",
    "    return model, label_to_idx"
   ]
  },
  {
   "cell_type": "code",
   "execution_count": 12,
   "id": "0977ebd8",
   "metadata": {},
   "outputs": [
    {
     "name": "stdout",
     "output_type": "stream",
     "text": [
      "Using device: mps\n",
      "Loading dataset...\n",
      "Found 37 pet breeds\n"
     ]
    },
    {
     "name": "stderr",
     "output_type": "stream",
     "text": [
      "/opt/anaconda3/lib/python3.12/site-packages/torchvision/models/_utils.py:208: UserWarning: The parameter 'pretrained' is deprecated since 0.13 and may be removed in the future, please use 'weights' instead.\n",
      "  warnings.warn(\n",
      "/opt/anaconda3/lib/python3.12/site-packages/torchvision/models/_utils.py:223: UserWarning: Arguments other than a weight enum or `None` for 'weights' are deprecated since 0.13 and may be removed in the future. The current behavior is equivalent to passing `weights=ResNet50_Weights.IMAGENET1K_V1`. You can also use `weights=ResNet50_Weights.DEFAULT` to get the most up-to-date weights.\n",
      "  warnings.warn(msg)\n"
     ]
    },
    {
     "name": "stdout",
     "output_type": "stream",
     "text": [
      "Downloading: \"https://download.pytorch.org/models/resnet50-0676ba61.pth\" to /Users/narengarapati/.cache/torch/hub/checkpoints/resnet50-0676ba61.pth\n"
     ]
    },
    {
     "name": "stderr",
     "output_type": "stream",
     "text": [
      "100%|██████████| 97.8M/97.8M [00:02<00:00, 42.5MB/s]\n"
     ]
    },
    {
     "name": "stdout",
     "output_type": "stream",
     "text": [
      "Starting training...\n"
     ]
    },
    {
     "name": "stderr",
     "output_type": "stream",
     "text": [
      "Epoch 1/15 - Training: 100%|██████████| 185/185 [01:00<00:00,  3.04it/s, loss=1.58, acc=56]  \n",
      "Epoch 1/15 - Validation: 100%|██████████| 47/47 [00:11<00:00,  3.99it/s, loss=0.491, acc=85.4] \n"
     ]
    },
    {
     "name": "stdout",
     "output_type": "stream",
     "text": [
      "Epoch [1/15]\n",
      "Train Loss: 1.5805, Train Acc: 55.97%\n",
      "Val Loss: 0.4906, Val Acc: 85.39%\n",
      "--------------------------------------------------\n"
     ]
    },
    {
     "name": "stderr",
     "output_type": "stream",
     "text": [
      "Epoch 2/15 - Training: 100%|██████████| 185/185 [00:56<00:00,  3.26it/s, loss=0.682, acc=77.6]\n",
      "Epoch 2/15 - Validation: 100%|██████████| 47/47 [00:11<00:00,  4.08it/s, loss=0.361, acc=89]   \n"
     ]
    },
    {
     "name": "stdout",
     "output_type": "stream",
     "text": [
      "Epoch [2/15]\n",
      "Train Loss: 0.6822, Train Acc: 77.64%\n",
      "Val Loss: 0.3613, Val Acc: 88.97%\n",
      "--------------------------------------------------\n"
     ]
    },
    {
     "name": "stderr",
     "output_type": "stream",
     "text": [
      "Epoch 3/15 - Training: 100%|██████████| 185/185 [00:57<00:00,  3.24it/s, loss=0.602, acc=80.5]\n",
      "Epoch 3/15 - Validation: 100%|██████████| 47/47 [00:10<00:00,  4.28it/s, loss=0.339, acc=89]   \n"
     ]
    },
    {
     "name": "stdout",
     "output_type": "stream",
     "text": [
      "Epoch [3/15]\n",
      "Train Loss: 0.6018, Train Acc: 80.48%\n",
      "Val Loss: 0.3394, Val Acc: 88.97%\n",
      "--------------------------------------------------\n"
     ]
    },
    {
     "name": "stderr",
     "output_type": "stream",
     "text": [
      "Epoch 4/15 - Training: 100%|██████████| 185/185 [00:55<00:00,  3.32it/s, loss=0.548, acc=82.3]\n",
      "Epoch 4/15 - Validation: 100%|██████████| 47/47 [00:11<00:00,  4.14it/s, loss=0.336, acc=89.5] \n"
     ]
    },
    {
     "name": "stdout",
     "output_type": "stream",
     "text": [
      "Epoch [4/15]\n",
      "Train Loss: 0.5476, Train Acc: 82.29%\n",
      "Val Loss: 0.3359, Val Acc: 89.51%\n",
      "--------------------------------------------------\n"
     ]
    },
    {
     "name": "stderr",
     "output_type": "stream",
     "text": [
      "Epoch 5/15 - Training: 100%|██████████| 185/185 [00:56<00:00,  3.27it/s, loss=0.532, acc=81.9]\n",
      "Epoch 5/15 - Validation: 100%|██████████| 47/47 [00:11<00:00,  4.26it/s, loss=0.382, acc=87.4] \n"
     ]
    },
    {
     "name": "stdout",
     "output_type": "stream",
     "text": [
      "Epoch [5/15]\n",
      "Train Loss: 0.5323, Train Acc: 81.88%\n",
      "Val Loss: 0.3821, Val Acc: 87.42%\n",
      "--------------------------------------------------\n"
     ]
    },
    {
     "name": "stderr",
     "output_type": "stream",
     "text": [
      "Epoch 6/15 - Training: 100%|██████████| 185/185 [00:55<00:00,  3.31it/s, loss=0.499, acc=82.9]\n",
      "Epoch 6/15 - Validation: 100%|██████████| 47/47 [00:11<00:00,  4.24it/s, loss=0.326, acc=89.8] \n"
     ]
    },
    {
     "name": "stdout",
     "output_type": "stream",
     "text": [
      "Epoch [6/15]\n",
      "Train Loss: 0.4992, Train Acc: 82.93%\n",
      "Val Loss: 0.3257, Val Acc: 89.78%\n",
      "--------------------------------------------------\n"
     ]
    },
    {
     "name": "stderr",
     "output_type": "stream",
     "text": [
      "Epoch 7/15 - Training: 100%|██████████| 185/185 [00:55<00:00,  3.32it/s, loss=0.502, acc=83.2]\n",
      "Epoch 7/15 - Validation: 100%|██████████| 47/47 [00:10<00:00,  4.45it/s, loss=0.335, acc=88.9] \n"
     ]
    },
    {
     "name": "stdout",
     "output_type": "stream",
     "text": [
      "Epoch [7/15]\n",
      "Train Loss: 0.5015, Train Acc: 83.24%\n",
      "Val Loss: 0.3349, Val Acc: 88.90%\n",
      "--------------------------------------------------\n"
     ]
    },
    {
     "name": "stderr",
     "output_type": "stream",
     "text": [
      "Epoch 8/15 - Training: 100%|██████████| 185/185 [00:55<00:00,  3.35it/s, loss=0.498, acc=83.6]\n",
      "Epoch 8/15 - Validation: 100%|██████████| 47/47 [00:10<00:00,  4.39it/s, loss=0.347, acc=87.7] \n"
     ]
    },
    {
     "name": "stdout",
     "output_type": "stream",
     "text": [
      "Epoch [8/15]\n",
      "Train Loss: 0.4978, Train Acc: 83.56%\n",
      "Val Loss: 0.3467, Val Acc: 87.69%\n",
      "--------------------------------------------------\n"
     ]
    },
    {
     "name": "stderr",
     "output_type": "stream",
     "text": [
      "Epoch 9/15 - Training: 100%|██████████| 185/185 [00:55<00:00,  3.35it/s, loss=0.492, acc=83.5]\n",
      "Epoch 9/15 - Validation: 100%|██████████| 47/47 [00:10<00:00,  4.29it/s, loss=0.327, acc=89]   \n"
     ]
    },
    {
     "name": "stdout",
     "output_type": "stream",
     "text": [
      "Epoch [9/15]\n",
      "Train Loss: 0.4921, Train Acc: 83.49%\n",
      "Val Loss: 0.3268, Val Acc: 89.04%\n",
      "--------------------------------------------------\n"
     ]
    },
    {
     "name": "stderr",
     "output_type": "stream",
     "text": [
      "Epoch 10/15 - Training: 100%|██████████| 185/185 [00:55<00:00,  3.34it/s, loss=0.48, acc=83.6] \n",
      "Epoch 10/15 - Validation: 100%|██████████| 47/47 [00:10<00:00,  4.46it/s, loss=0.332, acc=88.9] \n"
     ]
    },
    {
     "name": "stdout",
     "output_type": "stream",
     "text": [
      "Epoch [10/15]\n",
      "Train Loss: 0.4803, Train Acc: 83.64%\n",
      "Val Loss: 0.3320, Val Acc: 88.90%\n",
      "--------------------------------------------------\n"
     ]
    },
    {
     "name": "stderr",
     "output_type": "stream",
     "text": [
      "Epoch 11/15 - Training: 100%|██████████| 185/185 [00:55<00:00,  3.34it/s, loss=0.465, acc=84.6]\n",
      "Epoch 11/15 - Validation: 100%|██████████| 47/47 [00:10<00:00,  4.53it/s, loss=0.326, acc=90]   \n"
     ]
    },
    {
     "name": "stdout",
     "output_type": "stream",
     "text": [
      "Epoch [11/15]\n",
      "Train Loss: 0.4653, Train Acc: 84.62%\n",
      "Val Loss: 0.3259, Val Acc: 89.99%\n",
      "--------------------------------------------------\n"
     ]
    },
    {
     "name": "stderr",
     "output_type": "stream",
     "text": [
      "Epoch 12/15 - Training: 100%|██████████| 185/185 [00:57<00:00,  3.22it/s, loss=0.484, acc=84.1]\n",
      "Epoch 12/15 - Validation: 100%|██████████| 47/47 [00:10<00:00,  4.35it/s, loss=0.344, acc=89.1] \n"
     ]
    },
    {
     "name": "stdout",
     "output_type": "stream",
     "text": [
      "Epoch [12/15]\n",
      "Train Loss: 0.4838, Train Acc: 84.13%\n",
      "Val Loss: 0.3441, Val Acc: 89.11%\n",
      "--------------------------------------------------\n"
     ]
    },
    {
     "name": "stderr",
     "output_type": "stream",
     "text": [
      "Epoch 13/15 - Training: 100%|██████████| 185/185 [00:55<00:00,  3.31it/s, loss=0.428, acc=85.9]\n",
      "Epoch 13/15 - Validation: 100%|██████████| 47/47 [00:11<00:00,  4.21it/s, loss=0.379, acc=87.8] \n"
     ]
    },
    {
     "name": "stdout",
     "output_type": "stream",
     "text": [
      "Epoch [13/15]\n",
      "Train Loss: 0.4284, Train Acc: 85.86%\n",
      "Val Loss: 0.3785, Val Acc: 87.82%\n",
      "--------------------------------------------------\n"
     ]
    },
    {
     "name": "stderr",
     "output_type": "stream",
     "text": [
      "Epoch 14/15 - Training: 100%|██████████| 185/185 [00:56<00:00,  3.25it/s, loss=0.425, acc=85.4]\n",
      "Epoch 14/15 - Validation: 100%|██████████| 47/47 [00:10<00:00,  4.38it/s, loss=0.309, acc=90.5] \n"
     ]
    },
    {
     "name": "stdout",
     "output_type": "stream",
     "text": [
      "Epoch [14/15]\n",
      "Train Loss: 0.4246, Train Acc: 85.37%\n",
      "Val Loss: 0.3090, Val Acc: 90.46%\n",
      "--------------------------------------------------\n"
     ]
    },
    {
     "name": "stderr",
     "output_type": "stream",
     "text": [
      "Epoch 15/15 - Training: 100%|██████████| 185/185 [00:56<00:00,  3.28it/s, loss=0.44, acc=85.3] \n",
      "Epoch 15/15 - Validation: 100%|██████████| 47/47 [00:11<00:00,  4.21it/s, loss=0.332, acc=88.8] \n"
     ]
    },
    {
     "name": "stdout",
     "output_type": "stream",
     "text": [
      "Epoch [15/15]\n",
      "Train Loss: 0.4397, Train Acc: 85.33%\n",
      "Val Loss: 0.3318, Val Acc: 88.77%\n",
      "--------------------------------------------------\n"
     ]
    },
    {
     "data": {
      "image/png": "[encoded data removed]",
      "text/plain": [
       "<Figure size 1200x400 with 2 Axes>"
      ]
     },
     "metadata": {},
     "output_type": "display_data"
    },
    {
     "name": "stdout",
     "output_type": "stream",
     "text": [
      "Model saved as ResNetTuned.pth\n"
     ]
    },
    {
     "data": {
      "text/plain": [
       "(ResNet(\n",
       "   (conv1): Conv2d(3, 64, kernel_size=(7, 7), stride=(2, 2), padding=(3, 3), bias=False)\n",
       "   (bn1): BatchNorm2d(64, eps=1e-05, momentum=0.1, affine=True, track_running_stats=True)\n",
       "   (relu): ReLU(inplace=True)\n",
       "   (maxpool): MaxPool2d(kernel_size=3, stride=2, padding=1, dilation=1, ceil_mode=False)\n",
       "   (layer1): Sequential(\n",
       "     (0): Bottleneck(\n",
       "       (conv1): Conv2d(64, 64, kernel_size=(1, 1), stride=(1, 1), bias=False)\n",
       "       (bn1): BatchNorm2d(64, eps=1e-05, momentum=0.1, affine=True, track_running_stats=True)\n",
       "       (conv2): Conv2d(64, 64, kernel_size=(3, 3), stride=(1, 1), padding=(1, 1), bias=False)\n",
       "       (bn2): BatchNorm2d(64, eps=1e-05, momentum=0.1, affine=True, track_running_stats=True)\n",
       "       (conv3): Conv2d(64, 256, kernel_size=(1, 1), stride=(1, 1), bias=False)\n",
       "       (bn3): BatchNorm2d(256, eps=1e-05, momentum=0.1, affine=True, track_running_stats=True)\n",
       "       (relu): ReLU(inplace=True)\n",
       "       (downsample): Sequential(\n",
       "         (0): Conv2d(64, 256, kernel_size=(1, 1), stride=(1, 1), bias=False)\n",
       "         (1): BatchNorm2d(256, eps=1e-05, momentum=0.1, affine=True, track_running_stats=True)\n",
       "       )\n",
       "     )\n",
       "     (1): Bottleneck(\n",
       "       (conv1): Conv2d(256, 64, kernel_size=(1, 1), stride=(1, 1), bias=False)\n",
       "       (bn1): BatchNorm2d(64, eps=1e-05, momentum=0.1, affine=True, track_running_stats=True)\n",
       "       (conv2): Conv2d(64, 64, kernel_size=(3, 3), stride=(1, 1), padding=(1, 1), bias=False)\n",
       "       (bn2): BatchNorm2d(64, eps=1e-05, momentum=0.1, affine=True, track_running_stats=True)\n",
       "       (conv3): Conv2d(64, 256, kernel_size=(1, 1), stride=(1, 1), bias=False)\n",
       "       (bn3): BatchNorm2d(256, eps=1e-05, momentum=0.1, affine=True, track_running_stats=True)\n",
       "       (relu): ReLU(inplace=True)\n",
       "     )\n",
       "     (2): Bottleneck(\n",
       "       (conv1): Conv2d(256, 64, kernel_size=(1, 1), stride=(1, 1), bias=False)\n",
       "       (bn1): BatchNorm2d(64, eps=1e-05, momentum=0.1, affine=True, track_running_stats=True)\n",
       "       (conv2): Conv2d(64, 64, kernel_size=(3, 3), stride=(1, 1), padding=(1, 1), bias=False)\n",
       "       (bn2): BatchNorm2d(64, eps=1e-05, momentum=0.1, affine=True, track_running_stats=True)\n",
       "       (conv3): Conv2d(64, 256, kernel_size=(1, 1), stride=(1, 1), bias=False)\n",
       "       (bn3): BatchNorm2d(256, eps=1e-05, momentum=0.1, affine=True, track_running_stats=True)\n",
       "       (relu): ReLU(inplace=True)\n",
       "     )\n",
       "   )\n",
       "   (layer2): Sequential(\n",
       "     (0): Bottleneck(\n",
       "       (conv1): Conv2d(256, 128, kernel_size=(1, 1), stride=(1, 1), bias=False)\n",
       "       (bn1): BatchNorm2d(128, eps=1e-05, momentum=0.1, affine=True, track_running_stats=True)\n",
       "       (conv2): Conv2d(128, 128, kernel_size=(3, 3), stride=(2, 2), padding=(1, 1), bias=False)\n",
       "       (bn2): BatchNorm2d(128, eps=1e-05, momentum=0.1, affine=True, track_running_stats=True)\n",
       "       (conv3): Conv2d(128, 512, kernel_size=(1, 1), stride=(1, 1), bias=False)\n",
       "       (bn3): BatchNorm2d(512, eps=1e-05, momentum=0.1, affine=True, track_running_stats=True)\n",
       "       (relu): ReLU(inplace=True)\n",
       "       (downsample): Sequential(\n",
       "         (0): Conv2d(256, 512, kernel_size=(1, 1), stride=(2, 2), bias=False)\n",
       "         (1): BatchNorm2d(512, eps=1e-05, momentum=0.1, affine=True, track_running_stats=True)\n",
       "       )\n",
       "     )\n",
       "     (1): Bottleneck(\n",
       "       (conv1): Conv2d(512, 128, kernel_size=(1, 1), stride=(1, 1), bias=False)\n",
       "       (bn1): BatchNorm2d(128, eps=1e-05, momentum=0.1, affine=True, track_running_stats=True)\n",
       "       (conv2): Conv2d(128, 128, kernel_size=(3, 3), stride=(1, 1), padding=(1, 1), bias=False)\n",
       "       (bn2): BatchNorm2d(128, eps=1e-05, momentum=0.1, affine=True, track_running_stats=True)\n",
       "       (conv3): Conv2d(128, 512, kernel_size=(1, 1), stride=(1, 1), bias=False)\n",
       "       (bn3): BatchNorm2d(512, eps=1e-05, momentum=0.1, affine=True, track_running_stats=True)\n",
       "       (relu): ReLU(inplace=True)\n",
       "     )\n",
       "     (2): Bottleneck(\n",
       "       (conv1): Conv2d(512, 128, kernel_size=(1, 1), stride=(1, 1), bias=False)\n",
       "       (bn1): BatchNorm2d(128, eps=1e-05, momentum=0.1, affine=True, track_running_stats=True)\n",
       "       (conv2): Conv2d(128, 128, kernel_size=(3, 3), stride=(1, 1), padding=(1, 1), bias=False)\n",
       "       (bn2): BatchNorm2d(128, eps=1e-05, momentum=0.1, affine=True, track_running_stats=True)\n",
       "       (conv3): Conv2d(128, 512, kernel_size=(1, 1), stride=(1, 1), bias=False)\n",
       "       (bn3): BatchNorm2d(512, eps=1e-05, momentum=0.1, affine=True, track_running_stats=True)\n",
       "       (relu): ReLU(inplace=True)\n",
       "     )\n",
       "     (3): Bottleneck(\n",
       "       (conv1): Conv2d(512, 128, kernel_size=(1, 1), stride=(1, 1), bias=False)\n",
       "       (bn1): BatchNorm2d(128, eps=1e-05, momentum=0.1, affine=True, track_running_stats=True)\n",
       "       (conv2): Conv2d(128, 128, kernel_size=(3, 3), stride=(1, 1), padding=(1, 1), bias=False)\n",
       "       (bn2): BatchNorm2d(128, eps=1e-05, momentum=0.1, affine=True, track_running_stats=True)\n",
       "       (conv3): Conv2d(128, 512, kernel_size=(1, 1), stride=(1, 1), bias=False)\n",
       "       (bn3): BatchNorm2d(512, eps=1e-05, momentum=0.1, affine=True, track_running_stats=True)\n",
       "       (relu): ReLU(inplace=True)\n",
       "     )\n",
       "   )\n",
       "   (layer3): Sequential(\n",
       "     (0): Bottleneck(\n",
       "       (conv1): Conv2d(512, 256, kernel_size=(1, 1), stride=(1, 1), bias=False)\n",
       "       (bn1): BatchNorm2d(256, eps=1e-05, momentum=0.1, affine=True, track_running_stats=True)\n",
       "       (conv2): Conv2d(256, 256, kernel_size=(3, 3), stride=(2, 2), padding=(1, 1), bias=False)\n",
       "       (bn2): BatchNorm2d(256, eps=1e-05, momentum=0.1, affine=True, track_running_stats=True)\n",
       "       (conv3): Conv2d(256, 1024, kernel_size=(1, 1), stride=(1, 1), bias=False)\n",
       "       (bn3): BatchNorm2d(1024, eps=1e-05, momentum=0.1, affine=True, track_running_stats=True)\n",
       "       (relu): ReLU(inplace=True)\n",
       "       (downsample): Sequential(\n",
       "         (0): Conv2d(512, 1024, kernel_size=(1, 1), stride=(2, 2), bias=False)\n",
       "         (1): BatchNorm2d(1024, eps=1e-05, momentum=0.1, affine=True, track_running_stats=True)\n",
       "       )\n",
       "     )\n",
       "     (1): Bottleneck(\n",
       "       (conv1): Conv2d(1024, 256, kernel_size=(1, 1), stride=(1, 1), bias=False)\n",
       "       (bn1): BatchNorm2d(256, eps=1e-05, momentum=0.1, affine=True, track_running_stats=True)\n",
       "       (conv2): Conv2d(256, 256, kernel_size=(3, 3), stride=(1, 1), padding=(1, 1), bias=False)\n",
       "       (bn2): BatchNorm2d(256, eps=1e-05, momentum=0.1, affine=True, track_running_stats=True)\n",
       "       (conv3): Conv2d(256, 1024, kernel_size=(1, 1), stride=(1, 1), bias=False)\n",
       "       (bn3): BatchNorm2d(1024, eps=1e-05, momentum=0.1, affine=True, track_running_stats=True)\n",
       "       (relu): ReLU(inplace=True)\n",
       "     )\n",
       "     (2): Bottleneck(\n",
       "       (conv1): Conv2d(1024, 256, kernel_size=(1, 1), stride=(1, 1), bias=False)\n",
       "       (bn1): BatchNorm2d(256, eps=1e-05, momentum=0.1, affine=True, track_running_stats=True)\n",
       "       (conv2): Conv2d(256, 256, kernel_size=(3, 3), stride=(1, 1), padding=(1, 1), bias=False)\n",
       "       (bn2): BatchNorm2d(256, eps=1e-05, momentum=0.1, affine=True, track_running_stats=True)\n",
       "       (conv3): Conv2d(256, 1024, kernel_size=(1, 1), stride=(1, 1), bias=False)\n",
       "       (bn3): BatchNorm2d(1024, eps=1e-05, momentum=0.1, affine=True, track_running_stats=True)\n",
       "       (relu): ReLU(inplace=True)\n",
       "     )\n",
       "     (3): Bottleneck(\n",
       "       (conv1): Conv2d(1024, 256, kernel_size=(1, 1), stride=(1, 1), bias=False)\n",
       "       (bn1): BatchNorm2d(256, eps=1e-05, momentum=0.1, affine=True, track_running_stats=True)\n",
       "       (conv2): Conv2d(256, 256, kernel_size=(3, 3), stride=(1, 1), padding=(1, 1), bias=False)\n",
       "       (bn2): BatchNorm2d(256, eps=1e-05, momentum=0.1, affine=True, track_running_stats=True)\n",
       "       (conv3): Conv2d(256, 1024, kernel_size=(1, 1), stride=(1, 1), bias=False)\n",
       "       (bn3): BatchNorm2d(1024, eps=1e-05, momentum=0.1, affine=True, track_running_stats=True)\n",
       "       (relu): ReLU(inplace=True)\n",
       "     )\n",
       "     (4): Bottleneck(\n",
       "       (conv1): Conv2d(1024, 256, kernel_size=(1, 1), stride=(1, 1), bias=False)\n",
       "       (bn1): BatchNorm2d(256, eps=1e-05, momentum=0.1, affine=True, track_running_stats=True)\n",
       "       (conv2): Conv2d(256, 256, kernel_size=(3, 3), stride=(1, 1), padding=(1, 1), bias=False)\n",
       "       (bn2): BatchNorm2d(256, eps=1e-05, momentum=0.1, affine=True, track_running_stats=True)\n",
       "       (conv3): Conv2d(256, 1024, kernel_size=(1, 1), stride=(1, 1), bias=False)\n",
       "       (bn3): BatchNorm2d(1024, eps=1e-05, momentum=0.1, affine=True, track_running_stats=True)\n",
       "       (relu): ReLU(inplace=True)\n",
       "     )\n",
       "     (5): Bottleneck(\n",
       "       (conv1): Conv2d(1024, 256, kernel_size=(1, 1), stride=(1, 1), bias=False)\n",
       "       (bn1): BatchNorm2d(256, eps=1e-05, momentum=0.1, affine=True, track_running_stats=True)\n",
       "       (conv2): Conv2d(256, 256, kernel_size=(3, 3), stride=(1, 1), padding=(1, 1), bias=False)\n",
       "       (bn2): BatchNorm2d(256, eps=1e-05, momentum=0.1, affine=True, track_running_stats=True)\n",
       "       (conv3): Conv2d(256, 1024, kernel_size=(1, 1), stride=(1, 1), bias=False)\n",
       "       (bn3): BatchNorm2d(1024, eps=1e-05, momentum=0.1, affine=True, track_running_stats=True)\n",
       "       (relu): ReLU(inplace=True)\n",
       "     )\n",
       "   )\n",
       "   (layer4): Sequential(\n",
       "     (0): Bottleneck(\n",
       "       (conv1): Conv2d(1024, 512, kernel_size=(1, 1), stride=(1, 1), bias=False)\n",
       "       (bn1): BatchNorm2d(512, eps=1e-05, momentum=0.1, affine=True, track_running_stats=True)\n",
       "       (conv2): Conv2d(512, 512, kernel_size=(3, 3), stride=(2, 2), padding=(1, 1), bias=False)\n",
       "       (bn2): BatchNorm2d(512, eps=1e-05, momentum=0.1, affine=True, track_running_stats=True)\n",
       "       (conv3): Conv2d(512, 2048, kernel_size=(1, 1), stride=(1, 1), bias=False)\n",
       "       (bn3): BatchNorm2d(2048, eps=1e-05, momentum=0.1, affine=True, track_running_stats=True)\n",
       "       (relu): ReLU(inplace=True)\n",
       "       (downsample): Sequential(\n",
       "         (0): Conv2d(1024, 2048, kernel_size=(1, 1), stride=(2, 2), bias=False)\n",
       "         (1): BatchNorm2d(2048, eps=1e-05, momentum=0.1, affine=True, track_running_stats=True)\n",
       "       )\n",
       "     )\n",
       "     (1): Bottleneck(\n",
       "       (conv1): Conv2d(2048, 512, kernel_size=(1, 1), stride=(1, 1), bias=False)\n",
       "       (bn1): BatchNorm2d(512, eps=1e-05, momentum=0.1, affine=True, track_running_stats=True)\n",
       "       (conv2): Conv2d(512, 512, kernel_size=(3, 3), stride=(1, 1), padding=(1, 1), bias=False)\n",
       "       (bn2): BatchNorm2d(512, eps=1e-05, momentum=0.1, affine=True, track_running_stats=True)\n",
       "       (conv3): Conv2d(512, 2048, kernel_size=(1, 1), stride=(1, 1), bias=False)\n",
       "       (bn3): BatchNorm2d(2048, eps=1e-05, momentum=0.1, affine=True, track_running_stats=True)\n",
       "       (relu): ReLU(inplace=True)\n",
       "     )\n",
       "     (2): Bottleneck(\n",
       "       (conv1): Conv2d(2048, 512, kernel_size=(1, 1), stride=(1, 1), bias=False)\n",
       "       (bn1): BatchNorm2d(512, eps=1e-05, momentum=0.1, affine=True, track_running_stats=True)\n",
       "       (conv2): Conv2d(512, 512, kernel_size=(3, 3), stride=(1, 1), padding=(1, 1), bias=False)\n",
       "       (bn2): BatchNorm2d(512, eps=1e-05, momentum=0.1, affine=True, track_running_stats=True)\n",
       "       (conv3): Conv2d(512, 2048, kernel_size=(1, 1), stride=(1, 1), bias=False)\n",
       "       (bn3): BatchNorm2d(2048, eps=1e-05, momentum=0.1, affine=True, track_running_stats=True)\n",
       "       (relu): ReLU(inplace=True)\n",
       "     )\n",
       "   )\n",
       "   (avgpool): AdaptiveAvgPool2d(output_size=(1, 1))\n",
       "   (fc): Sequential(\n",
       "     (0): Linear(in_features=2048, out_features=512, bias=True)\n",
       "     (1): ReLU()\n",
       "     (2): Dropout(p=0.5, inplace=False)\n",
       "     (3): Linear(in_features=512, out_features=37, bias=True)\n",
       "   )\n",
       " ),\n",
       " {'Egyptian_Mau': 0,\n",
       "  'pug': 1,\n",
       "  'basset_hound': 2,\n",
       "  'Siamese': 3,\n",
       "  'shiba_inu': 4,\n",
       "  'Birman': 5,\n",
       "  'leonberger': 6,\n",
       "  'saint_bernard': 7,\n",
       "  'Abyssinian': 8,\n",
       "  'miniature_pinscher': 9,\n",
       "  'wheaten_terrier': 10,\n",
       "  'scottish_terrier': 11,\n",
       "  'pomeranian': 12,\n",
       "  'german_shorthaired': 13,\n",
       "  'english_setter': 14,\n",
       "  'newfoundland': 15,\n",
       "  'Sphynx': 16,\n",
       "  'British_Shorthair': 17,\n",
       "  'Bombay': 18,\n",
       "  'boxer': 19,\n",
       "  'great_pyrenees': 20,\n",
       "  'samoyed': 21,\n",
       "  'Russian_Blue': 22,\n",
       "  'Persian': 23,\n",
       "  'japanese_chin': 24,\n",
       "  'Ragdoll': 25,\n",
       "  'english_cocker_spaniel': 26,\n",
       "  'Maine_Coon': 27,\n",
       "  'havanese': 28,\n",
       "  'Bengal': 29,\n",
       "  'american_pit_bull_terrier': 30,\n",
       "  'keeshond': 31,\n",
       "  'american_bulldog': 32,\n",
       "  'chihuahua': 33,\n",
       "  'beagle': 34,\n",
       "  'yorkshire_terrier': 35,\n",
       "  'staffordshire_bull_terrier': 36})"
      ]
     },
     "execution_count": 12,
     "metadata": {},
     "output_type": "execute_result"
    }
   ],
   "source": [
    "main()"
   ]
  }
 ],
 "metadata": {
  "kernelspec": {
   "display_name": "base",
   "language": "python",
   "name": "python3"
  },
  "language_info": {
   "codemirror_mode": {
    "name": "ipython",
    "version": 3
   },
   "file_extension": ".py",
   "mimetype": "text/x-python",
   "name": "python",
   "nbconvert_exporter": "python",
   "pygments_lexer": "ipython3",
   "version": "3.12.7"
  }
 },
 "nbformat": 4,
 "nbformat_minor": 5
}
